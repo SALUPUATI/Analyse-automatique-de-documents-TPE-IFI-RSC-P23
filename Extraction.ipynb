{
 "cells": [
  {
   "cell_type": "code",
   "execution_count": 1,
   "metadata": {},
   "outputs": [],
   "source": [
    "# ********************************************************************\n",
    "#       Necessary imports                                            *\n",
    "#*********************************************************************\n",
    "import sys\n",
    "from subprocess import call\n",
    "from convert2gry import *\n",
    "from bs4 import BeautifulSoup\n",
    "import argparse\n",
    "import requests"
   ]
  },
  {
   "cell_type": "code",
   "execution_count": 2,
   "metadata": {},
   "outputs": [
    {
     "name": "stdout",
     "output_type": "stream",
     "text": [
      "-> Image 011.png convert success !\n",
      "-> Image 012.png convert success !\n",
      "-> Image 013.png convert success !\n",
      "-> Image 016.png convert success !\n",
      "-> Image 015.png convert success !\n",
      "-> Image 014.png convert success !\n",
      "-> Image 017.png convert success !\n"
     ]
    }
   ],
   "source": [
    "FNULL = open(os.devnull, 'w')\n",
    "INPATH_1 = \"images/\"\n",
    "INPATH_2 = \"ressource/\"\n",
    "\n",
    "# Accusion et transformation des images en niveau de gris\n",
    "\n",
    "rgb2gry(INPATH_1, INPATH_2)"
   ]
  },
  {
   "cell_type": "code",
   "execution_count": 3,
   "metadata": {},
   "outputs": [],
   "source": [
    "class ArgumentMissingException(Exception):\n",
    "    def __init__(self):\n",
    "        print(\"usage: {} <dirname>\".format(sys.argv[0]))\n",
    "        sys.exit(1)"
   ]
  },
  {
   "cell_type": "code",
   "execution_count": 4,
   "metadata": {},
   "outputs": [],
   "source": [
    "def create_directory(path):\n",
    "    if not os.path.exists(path):\n",
    "        os.makedirs(path)"
   ]
  },
  {
   "cell_type": "code",
   "execution_count": 5,
   "metadata": {},
   "outputs": [],
   "source": [
    "def check_path(path):\n",
    "    return bool(os.path.exists(path))"
   ]
  },
  {
   "cell_type": "code",
   "execution_count": 6,
   "metadata": {},
   "outputs": [],
   "source": [
    "def main(input_path, output_path):\n",
    "    if call(['which', 'tesseract']):\n",
    "        print(\"tesseract-ocr missing, use sudo apt-get install tesseract-ocr to resolve\")\n",
    "    elif check_path(input_path):\n",
    "        count = 0\n",
    "        other_files = 0\n",
    "\n",
    "        for f in os.listdir(input_path):\n",
    "            ext = os.path.splitext(f)[1]\n",
    "\n",
    "            if ext.lower() not in VALID_IMAGES:\n",
    "                other_files += 1\n",
    "                continue\n",
    "            else :\n",
    "\n",
    "                if count == 0:\n",
    "                    create_directory(output_path)\n",
    "                    count += 1\n",
    "                    image_file_name = os.path.join(input_path, f)\n",
    "                    filename = os.path.splitext(f)[0]\n",
    "                    filename = ''.join(e for e in filename if e.isalnum() or e == '-')\n",
    "                    text_file_path = os.path.join(output_path, filename)\n",
    "                    call([\"tesseract\", image_file_name, text_file_path, \"hocr\"], stdout=FNULL)\n",
    "\n",
    "\n",
    "                    print(str(count) + (\" file\" if count == 1 else \" files\") + \" completed\")\n",
    "                \n",
    "                \n",
    "        if count + other_files == 0:\n",
    "            print(\"No files found at your given location\")\n",
    "        else :\n",
    "            print(str(count) + \" / \" + str(count + other_files) + \" files converted\")\n",
    "            print(\"Extraction terminé avec succèss \" + str(count) + \" files\")\n",
    "            \n",
    "    else :\n",
    "        print(\"No directory found at \" + format(input_path))\n"
   ]
  },
  {
   "cell_type": "code",
   "execution_count": 7,
   "metadata": {},
   "outputs": [
    {
     "name": "stderr",
     "output_type": "stream",
     "text": [
      "usage: ipykernel_launcher.py [-h] input_dir [output_dir]\n",
      "ipykernel_launcher.py: error: unrecognized arguments: -f\n"
     ]
    },
    {
     "ename": "SystemExit",
     "evalue": "2",
     "output_type": "error",
     "traceback": [
      "An exception has occurred, use %tb to see the full traceback.\n",
      "\u001b[0;31mSystemExit\u001b[0m\u001b[0;31m:\u001b[0m 2\n"
     ]
    },
    {
     "name": "stderr",
     "output_type": "stream",
     "text": [
      "/home/emmanuel/anaconda3/lib/python3.7/site-packages/IPython/core/interactiveshell.py:3304: UserWarning: To exit: use 'exit', 'quit', or Ctrl-D.\n",
      "  warn(\"To exit: use 'exit', 'quit', or Ctrl-D.\", stacklevel=1)\n"
     ]
    }
   ],
   "source": [
    "if __name__ == '__main__':\n",
    "    parser = argparse.ArgumentParser()\n",
    "    parser.add_argument(\"input_dir\", help=\"Input directory where input images are stored\")\n",
    "    parser.add_argument('output_dir', nargs='?', help=\"(Optional) Output directory to store converted text (default: {input_path}/converted-text)\")\n",
    "    args = parser.parse_args()\n",
    "    input_path = os.path.abspath(input_path)\n",
    "    if args.output_dir:\n",
    "        output_path = os.path.abspath(args.output_dir)\n",
    "    else:\n",
    "        output_path = os.path.join(input_path,'converted-text')\n",
    "    main(input_path, output_path)"
   ]
  },
  {
   "cell_type": "code",
   "execution_count": null,
   "metadata": {},
   "outputs": [],
   "source": []
  }
 ],
 "metadata": {
  "kernelspec": {
   "display_name": "Python 3",
   "language": "python",
   "name": "python3"
  },
  "language_info": {
   "codemirror_mode": {
    "name": "ipython",
    "version": 3
   },
   "file_extension": ".py",
   "mimetype": "text/x-python",
   "name": "python",
   "nbconvert_exporter": "python",
   "pygments_lexer": "ipython3",
   "version": "3.7.3"
  }
 },
 "nbformat": 4,
 "nbformat_minor": 2
}
